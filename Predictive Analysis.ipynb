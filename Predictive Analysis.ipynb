{
 "cells": [
  {
   "cell_type": "markdown",
   "id": "09b88095-dc42-4d9c-8320-9e944a804f64",
   "metadata": {},
   "source": [
    "<h1>Predictive Analysis with Python</h1>\n",
    "\n",
    "__reference:__ https://www.kaggle.com/code/kunalaldar/diabetes-prediction-smote"
   ]
  },
  {
   "attachments": {},
   "cell_type": "markdown",
   "id": "025cb027-27d6-45f0-9b64-eb892fdcbaa1",
   "metadata": {},
   "source": [
    "<h3>Installing Python and Essential Libraries</h3>\n"
   ]
  },
  {
   "cell_type": "code",
   "execution_count": 1,
   "id": "0d971ab1-bb9c-4872-bf90-9863027920ae",
   "metadata": {},
   "outputs": [],
   "source": [
    "# This Python 3 environment comes with many helpful analytics libraries installed\n",
    "\n",
    "import numpy as np # linear algebra\n",
    "import pandas as pd # data processing, CSV file I/O (e.g. pd.read_csv)\n",
    "import matplotlib.pyplot as plt\n",
    "import seaborn as sns\n"
   ]
  },
  {
   "cell_type": "markdown",
   "id": "3bde728b-eb50-4cb6-815f-ec729cf86a5d",
   "metadata": {},
   "source": [
    "<h3>Loading and Exploring the Data</h3>"
   ]
  },
  {
   "cell_type": "code",
   "execution_count": 2,
   "id": "536b164c-8098-4ac5-a9c8-7ee7893c7b73",
   "metadata": {},
   "outputs": [
    {
     "data": {
      "text/html": [
       "<div>\n",
       "<style scoped>\n",
       "    .dataframe tbody tr th:only-of-type {\n",
       "        vertical-align: middle;\n",
       "    }\n",
       "\n",
       "    .dataframe tbody tr th {\n",
       "        vertical-align: top;\n",
       "    }\n",
       "\n",
       "    .dataframe thead th {\n",
       "        text-align: right;\n",
       "    }\n",
       "</style>\n",
       "<table border=\"1\" class=\"dataframe\">\n",
       "  <thead>\n",
       "    <tr style=\"text-align: right;\">\n",
       "      <th></th>\n",
       "      <th>gender</th>\n",
       "      <th>age</th>\n",
       "      <th>hypertension</th>\n",
       "      <th>heart_disease</th>\n",
       "      <th>smoking_history</th>\n",
       "      <th>bmi</th>\n",
       "      <th>HbA1c_level</th>\n",
       "      <th>blood_glucose_level</th>\n",
       "      <th>diabetes</th>\n",
       "    </tr>\n",
       "  </thead>\n",
       "  <tbody>\n",
       "    <tr>\n",
       "      <th>0</th>\n",
       "      <td>Female</td>\n",
       "      <td>80.0</td>\n",
       "      <td>0</td>\n",
       "      <td>1</td>\n",
       "      <td>never</td>\n",
       "      <td>25.19</td>\n",
       "      <td>6.6</td>\n",
       "      <td>140</td>\n",
       "      <td>0</td>\n",
       "    </tr>\n",
       "    <tr>\n",
       "      <th>1</th>\n",
       "      <td>Female</td>\n",
       "      <td>54.0</td>\n",
       "      <td>0</td>\n",
       "      <td>0</td>\n",
       "      <td>No Info</td>\n",
       "      <td>27.32</td>\n",
       "      <td>6.6</td>\n",
       "      <td>80</td>\n",
       "      <td>0</td>\n",
       "    </tr>\n",
       "    <tr>\n",
       "      <th>2</th>\n",
       "      <td>Male</td>\n",
       "      <td>28.0</td>\n",
       "      <td>0</td>\n",
       "      <td>0</td>\n",
       "      <td>never</td>\n",
       "      <td>27.32</td>\n",
       "      <td>5.7</td>\n",
       "      <td>158</td>\n",
       "      <td>0</td>\n",
       "    </tr>\n",
       "    <tr>\n",
       "      <th>3</th>\n",
       "      <td>Female</td>\n",
       "      <td>36.0</td>\n",
       "      <td>0</td>\n",
       "      <td>0</td>\n",
       "      <td>current</td>\n",
       "      <td>23.45</td>\n",
       "      <td>5.0</td>\n",
       "      <td>155</td>\n",
       "      <td>0</td>\n",
       "    </tr>\n",
       "    <tr>\n",
       "      <th>4</th>\n",
       "      <td>Male</td>\n",
       "      <td>76.0</td>\n",
       "      <td>1</td>\n",
       "      <td>1</td>\n",
       "      <td>current</td>\n",
       "      <td>20.14</td>\n",
       "      <td>4.8</td>\n",
       "      <td>155</td>\n",
       "      <td>0</td>\n",
       "    </tr>\n",
       "  </tbody>\n",
       "</table>\n",
       "</div>"
      ],
      "text/plain": [
       "   gender   age  hypertension  heart_disease smoking_history    bmi  \\\n",
       "0  Female  80.0             0              1           never  25.19   \n",
       "1  Female  54.0             0              0         No Info  27.32   \n",
       "2    Male  28.0             0              0           never  27.32   \n",
       "3  Female  36.0             0              0         current  23.45   \n",
       "4    Male  76.0             1              1         current  20.14   \n",
       "\n",
       "   HbA1c_level  blood_glucose_level  diabetes  \n",
       "0          6.6                  140         0  \n",
       "1          6.6                   80         0  \n",
       "2          5.7                  158         0  \n",
       "3          5.0                  155         0  \n",
       "4          4.8                  155         0  "
      ]
     },
     "metadata": {},
     "output_type": "display_data"
    },
    {
     "name": "stdout",
     "output_type": "stream",
     "text": [
      "(100000, 9)\n"
     ]
    }
   ],
   "source": [
    "# # read from Google Drive\n",
    "# from google.colab import drive \n",
    "# drive.mount('/content/drive', force_remount=True)\n",
    "# path = 'drive/My Drive/Developments/'\n",
    "# !ls 'drive/My Drive/Developments/'\n",
    "# df=pd.read_csv(path + 'diabetes_prediction_dataset.csv')\n",
    "# display(df.head(5))\n",
    "\n",
    "# # read from github.com\n",
    "# url_file = \"https://raw.githubusercontent.com/tribasuki74/predictive_anaysis/main/dataset/diabetes_prediction_dataset.csv\"\n",
    "# df = pd.read_csv(url_file)\n",
    "\n",
    "# read from local drive\n",
    "url_file = \"dataset/diabetes_prediction_dataset.csv\"\n",
    "df = pd.read_csv(url_file)\n",
    "\n",
    "display(df.head(5))\n",
    "print(df.shape)\n"
   ]
  },
  {
   "attachments": {},
   "cell_type": "markdown",
   "id": "929deb42-0b86-429a-8f6f-658856a44dac",
   "metadata": {},
   "source": [
    "\n",
    "\n",
    "<h3>Understanding Data</h3>\n"
   ]
  },
  {
   "cell_type": "code",
   "execution_count": 3,
   "id": "3f7f6ffd-ec4e-4f46-b862-e155ce3730e0",
   "metadata": {},
   "outputs": [
    {
     "name": "stdout",
     "output_type": "stream",
     "text": [
      "diabetes\n",
      "0    91500\n",
      "1     8500\n",
      "Name: count, dtype: int64\n"
     ]
    },
    {
     "data": {
      "image/png": "[encoded data removed]",
      "text/plain": [
       "<Figure size 400x300 with 1 Axes>"
      ]
     },
     "metadata": {},
     "output_type": "display_data"
    }
   ],
   "source": [
    "label_names = df['diabetes'].unique()\n",
    "label_names.sort()\n",
    "\n",
    "label_counts = df['diabetes'].value_counts().sort_index()\n",
    "print(label_counts)\n",
    "\n",
    "plt.figure(figsize=(4, 3))\n",
    "plt.bar(label_names[label_counts.index], label_counts.values, color='skyblue')\n",
    "\n",
    "plt.xticks(rotation='vertical')\n",
    "plt.xlabel('Label Name')\n",
    "plt.ylabel('Frequency')\n",
    "plt.title('Label Frequencies')\n",
    "plt.legend(['Labels'])\n",
    "plt.show()\n"
   ]
  },
  {
   "cell_type": "markdown",
   "id": "9a79372f-8c57-4daf-b5b6-83d21238ea7d",
   "metadata": {},
   "source": [
    "<h4>Imbalanced Data</h4>\n",
    "<h3We might need to consider sampling techniques, although we will first check model performance without sampling."
   ]
  },
  {
   "cell_type": "code",
   "execution_count": 4,
   "id": "3764ba72-8bba-4bec-b189-ef05ff3338cf",
   "metadata": {},
   "outputs": [
    {
     "data": {
      "text/plain": [
       "smoking_history\n",
       "No Info        35816\n",
       "never          35095\n",
       "former          9352\n",
       "current         9286\n",
       "not current     6447\n",
       "ever            4004\n",
       "Name: count, dtype: int64"
      ]
     },
     "execution_count": 4,
     "metadata": {},
     "output_type": "execute_result"
    }
   ],
   "source": [
    "df['smoking_history'].value_counts()\n"
   ]
  },
  {
   "cell_type": "markdown",
   "id": "7df597a2-481c-40d8-8dc9-2608132f833f",
   "metadata": {},
   "source": [
    "<h4>smoking_history column has No Info category which is can be considered as NaN value</h4?\n"
   ]
  },
  {
   "cell_type": "code",
   "execution_count": 5,
   "id": "83a486ab-8fd9-491c-b299-a8eb175359fa",
   "metadata": {},
   "outputs": [],
   "source": [
    "df['smoking_history']=df['smoking_history'].replace('No Info', np.nan)\n"
   ]
  },
  {
   "cell_type": "code",
   "execution_count": 6,
   "id": "eb0bc2e7-b44f-4ef4-913b-fd3608e946a2",
   "metadata": {},
   "outputs": [
    {
     "data": {
      "text/plain": [
       "gender                     0\n",
       "age                        0\n",
       "hypertension               0\n",
       "heart_disease              0\n",
       "smoking_history        35816\n",
       "bmi                        0\n",
       "HbA1c_level                0\n",
       "blood_glucose_level        0\n",
       "diabetes                   0\n",
       "dtype: int64"
      ]
     },
     "execution_count": 6,
     "metadata": {},
     "output_type": "execute_result"
    }
   ],
   "source": [
    "df.isnull().sum()\n"
   ]
  },
  {
   "cell_type": "markdown",
   "id": "affffeee-4210-4e5e-ab13-b330cff6f64f",
   "metadata": {},
   "source": [
    "<h4>Imputing missing values of smoking history</h4>\n"
   ]
  },
  {
   "cell_type": "code",
   "execution_count": 7,
   "id": "7d050ca9-3b46-4c83-93d5-48a902f24793",
   "metadata": {},
   "outputs": [],
   "source": [
    "def SmokingHistoryImpute(data,column):\n",
    "     # Create a boolean mask for missing values in the column\n",
    "    mask = data[column].isnull()\n",
    "    \n",
    "    # Count the number of missing values\n",
    "    num_missing = mask.sum()\n",
    "    \n",
    "    # If there are missing values, sample non-null values from the column\n",
    "    if num_missing > 0:\n",
    "        # Sample values from non-null entries in the column\n",
    "        random_sample = data[column].dropna().sample(num_missing, replace=True)\n",
    "        \n",
    "        # Assign these random values to the missing values in the column\n",
    "        data.loc[mask, column] = random_sample.values\n",
    "        "
   ]
  },
  {
   "cell_type": "code",
   "execution_count": 8,
   "id": "32fd4023-12ad-4246-b821-d945608bdb4a",
   "metadata": {},
   "outputs": [
    {
     "data": {
      "text/plain": [
       "gender                 0\n",
       "age                    0\n",
       "hypertension           0\n",
       "heart_disease          0\n",
       "smoking_history        0\n",
       "bmi                    0\n",
       "HbA1c_level            0\n",
       "blood_glucose_level    0\n",
       "diabetes               0\n",
       "dtype: int64"
      ]
     },
     "execution_count": 8,
     "metadata": {},
     "output_type": "execute_result"
    }
   ],
   "source": [
    "SmokingHistoryImpute(df,'smoking_history')\n",
    "\n",
    "df.isnull().sum()\n"
   ]
  },
  {
   "cell_type": "markdown",
   "id": "3c4a08a5-ddce-433b-b9df-c509bcea1191",
   "metadata": {},
   "source": [
    "<h3>Data Transformation</h3>\n"
   ]
  },
  {
   "cell_type": "code",
   "execution_count": 9,
   "id": "df1cff1e-c082-40ab-8cf1-33869b8e0559",
   "metadata": {},
   "outputs": [
    {
     "name": "stdout",
     "output_type": "stream",
     "text": [
      "gender: [0 1 2]\n",
      "age: [80.   54.   28.   36.   76.   20.   44.   79.   42.   32.   53.   78.\n",
      " 67.   15.   37.   40.    5.   69.   72.    4.   30.   45.   43.   50.\n",
      " 41.   26.   34.   73.   77.   66.   29.   60.   38.    3.   57.   74.\n",
      " 19.   46.   21.   59.   27.   13.   56.    2.    7.   11.    6.   55.\n",
      "  9.   62.   47.   12.   68.   75.   22.   58.   18.   24.   17.   25.\n",
      "  0.08 33.   16.   61.   31.    8.   49.   39.   65.   14.   70.    0.56\n",
      " 48.   51.   71.    0.88 64.   63.   52.    0.16 10.   35.   23.    0.64\n",
      "  1.16  1.64  0.72  1.88  1.32  0.8   1.24  1.    1.8   0.48  1.56  1.08\n",
      "  0.24  1.4   0.4   0.32  1.72  1.48]\n",
      "hypertension: [0 1]\n",
      "heart_disease: [1 0]\n",
      "smoking_history: [0 2 1 3 4]\n",
      "bmi: [25.19 27.32 23.45 ... 59.42 44.39 60.52]\n",
      "HbA1c_level: [6.6 5.7 5.  4.8 6.5 6.1 6.  5.8 3.5 6.2 4.  4.5 9.  7.  8.8 8.2 7.5 6.8]\n",
      "blood_glucose_level: [140  80 158 155  85 200 145 100 130 160 126 159  90 260 220 300 280 240]\n",
      "diabetes: [0 1]\n"
     ]
    },
    {
     "name": "stderr",
     "output_type": "stream",
     "text": [
      "/var/folders/y7/vnb4sg4j405c69m5qs8wskcw0000gn/T/ipykernel_3975/3293778842.py:2: FutureWarning: Downcasting behavior in `replace` is deprecated and will be removed in a future version. To retain the old behavior, explicitly call `result.infer_objects(copy=False)`. To opt-in to the future behavior, set `pd.set_option('future.no_silent_downcasting', True)`\n",
      "  df.replace({'gender': {'Female': 0, 'Male': 1, 'Other': 2}}, inplace=True)\n",
      "/var/folders/y7/vnb4sg4j405c69m5qs8wskcw0000gn/T/ipykernel_3975/3293778842.py:3: FutureWarning: Downcasting behavior in `replace` is deprecated and will be removed in a future version. To retain the old behavior, explicitly call `result.infer_objects(copy=False)`. To opt-in to the future behavior, set `pd.set_option('future.no_silent_downcasting', True)`\n",
      "  df.replace({'smoking_history': {'never': 0, 'former': 1, 'current': 2, 'not current': 3, 'ever': 4}}, inplace=True)\n"
     ]
    }
   ],
   "source": [
    "# convert to integer/float\n",
    "df.replace({'gender': {'Female': 0, 'Male': 1, 'Other': 2}}, inplace=True)\n",
    "df.replace({'smoking_history': {'never': 0, 'former': 1, 'current': 2, 'not current': 3, 'ever': 4}}, inplace=True)\n",
    "\n",
    "for column in df.columns:\n",
    "    unique = df[column].unique()\n",
    "    unique.sort\n",
    "    print(f\"{column}: {unique}\")\n",
    "    "
   ]
  },
  {
   "cell_type": "code",
   "execution_count": 10,
   "id": "41766ef8-a4b1-4b33-9594-c6b2f24b7507",
   "metadata": {},
   "outputs": [
    {
     "name": "stdout",
     "output_type": "stream",
     "text": [
      "Index(['gender', 'age', 'hypertension', 'heart_disease', 'smoking_history',\n",
      "       'bmi', 'HbA1c_level', 'blood_glucose_level'],\n",
      "      dtype='object')\n",
      "(100000, 8)\n",
      "(100000,)\n"
     ]
    }
   ],
   "source": [
    "X = df.drop(columns=['diabetes'])\n",
    "y = df.iloc[:,-1]\n",
    "\n",
    "print(X.columns)\n",
    "print(X.shape)\n",
    "print(y.shape)\n"
   ]
  },
  {
   "cell_type": "code",
   "execution_count": 11,
   "id": "ce7d13da-f21e-49e8-88aa-d90574940f9e",
   "metadata": {},
   "outputs": [
    {
     "name": "stdout",
     "output_type": "stream",
     "text": [
      "[[-8.41046744e-01  1.69270354e+00 -2.84439447e-01 ... -3.21055792e-01\n",
      "   1.00170572e+00  4.77042159e-02]\n",
      " [-8.41046744e-01  5.38006427e-01 -2.84439447e-01 ... -1.15583678e-04\n",
      "   1.00170572e+00 -1.42620999e+00]\n",
      " [ 1.18723364e+00 -6.16690686e-01 -2.84439447e-01 ... -1.15583678e-04\n",
      "   1.61108022e-01  4.89878478e-01]\n",
      " ...\n",
      " [ 1.18723364e+00  1.07094356e+00 -2.84439447e-01 ...  7.67292549e-02\n",
      "   1.61108022e-01  4.16182767e-01]\n",
      " [-8.41046744e-01 -7.94336396e-01 -2.84439447e-01 ...  1.22036126e+00\n",
      "  -1.42668764e+00 -9.34905254e-01]\n",
      " [-8.41046744e-01  6.71240710e-01 -2.84439447e-01 ... -7.36921977e-01\n",
      "   1.00170572e+00 -1.18055762e+00]]\n"
     ]
    }
   ],
   "source": [
    "# using standardScaler\n",
    "from sklearn.preprocessing import StandardScaler\n",
    "scaler = StandardScaler()\n",
    "X_scaled = scaler.fit_transform(X)\n",
    "print(X_scaled)\n"
   ]
  },
  {
   "attachments": {},
   "cell_type": "markdown",
   "id": "f0ae8381-ba35-44d1-a0b3-54284b0ae6e0",
   "metadata": {},
   "source": [
    "<h3>Building a Predictive Model</h3>\n"
   ]
  },
  {
   "cell_type": "code",
   "execution_count": 12,
   "id": "d31f883b-c8d1-4c7a-8d8a-f909f6d76ff2",
   "metadata": {},
   "outputs": [],
   "source": [
    "from sklearn.model_selection import train_test_split\n",
    "from sklearn.compose import ColumnTransformer\n",
    "from sklearn.pipeline import Pipeline\n",
    "from sklearn.preprocessing import OrdinalEncoder, OneHotEncoder, StandardScaler, MinMaxScaler\n",
    "from sklearn.model_selection import train_test_split\n",
    "from sklearn.ensemble import RandomForestClassifier\n",
    "from sklearn.metrics import accuracy_score, confusion_matrix, f1_score, classification_report\n"
   ]
  },
  {
   "cell_type": "markdown",
   "id": "a85bafdf-a440-41c5-b31f-799fbdd15fd2",
   "metadata": {},
   "source": [
    "<h4>Split data</h4>"
   ]
  },
  {
   "cell_type": "code",
   "execution_count": 15,
   "id": "77aa09ea-9711-4eff-b119-4dc0817e7daf",
   "metadata": {},
   "outputs": [
    {
     "name": "stdout",
     "output_type": "stream",
     "text": [
      "(80000, 8)\n",
      "(20000, 8)\n",
      "(80000,)\n",
      "(20000,)\n"
     ]
    }
   ],
   "source": [
    "X_train,X_test,y_train,y_test = train_test_split(X_scaled,y,test_size=0.2,random_state=42)\n",
    "\n",
    "print(X_train.shape)\n",
    "print(X_test.shape)\n",
    "print(y_train.shape)\n",
    "print(y_test.shape)\n"
   ]
  },
  {
   "cell_type": "markdown",
   "id": "3df159cd-bd97-419f-94aa-459cc1929efb",
   "metadata": {},
   "source": [
    "<h4>Choosing the Right Model</h4>"
   ]
  },
  {
   "cell_type": "code",
   "execution_count": 16,
   "id": "f083929e-8386-42a5-ac6e-10a86d13f37a",
   "metadata": {},
   "outputs": [],
   "source": [
    "rf = RandomForestClassifier()\n"
   ]
  },
  {
   "attachments": {},
   "cell_type": "markdown",
   "id": "c0e96958-9fd9-4751-b872-05e3b2ecec26",
   "metadata": {},
   "source": [
    "<h4>Model Training and Evaluation</h4>"
   ]
  },
  {
   "cell_type": "code",
   "execution_count": 17,
   "id": "02d59966-65ed-4e9d-bb3a-51078a2d7311",
   "metadata": {},
   "outputs": [
    {
     "data": {
      "text/html": [
       "<style>#sk-container-id-1 {\n",
       "  /* Definition of color scheme common for light and dark mode */\n",
       "  --sklearn-color-text: black;\n",
       "  --sklearn-color-line: gray;\n",
       "  /* Definition of color scheme for unfitted estimators */\n",
       "  --sklearn-color-unfitted-level-0: #fff5e6;\n",
       "  --sklearn-color-unfitted-level-1: #f6e4d2;\n",
       "  --sklearn-color-unfitted-level-2: #ffe0b3;\n",
       "  --sklearn-color-unfitted-level-3: chocolate;\n",
       "  /* Definition of color scheme for fitted estimators */\n",
       "  --sklearn-color-fitted-level-0: #f0f8ff;\n",
       "  --sklearn-color-fitted-level-1: #d4ebff;\n",
       "  --sklearn-color-fitted-level-2: #b3dbfd;\n",
       "  --sklearn-color-fitted-level-3: cornflowerblue;\n",
       "\n",
       "  /* Specific color for light theme */\n",
       "  --sklearn-color-text-on-default-background: var(--sg-text-color, var(--theme-code-foreground, var(--jp-content-font-color1, black)));\n",
       "  --sklearn-color-background: var(--sg-background-color, var(--theme-background, var(--jp-layout-color0, white)));\n",
       "  --sklearn-color-border-box: var(--sg-text-color, var(--theme-code-foreground, var(--jp-content-font-color1, black)));\n",
       "  --sklearn-color-icon: #696969;\n",
       "\n",
       "  @media (prefers-color-scheme: dark) {\n",
       "    /* Redefinition of color scheme for dark theme */\n",
       "    --sklearn-color-text-on-default-background: var(--sg-text-color, var(--theme-code-foreground, var(--jp-content-font-color1, white)));\n",
       "    --sklearn-color-background: var(--sg-background-color, var(--theme-background, var(--jp-layout-color0, #111)));\n",
       "    --sklearn-color-border-box: var(--sg-text-color, var(--theme-code-foreground, var(--jp-content-font-color1, white)));\n",
       "    --sklearn-color-icon: #878787;\n",
       "  }\n",
       "}\n",
       "\n",
       "#sk-container-id-1 {\n",
       "  color: var(--sklearn-color-text);\n",
       "}\n",
       "\n",
       "#sk-container-id-1 pre {\n",
       "  padding: 0;\n",
       "}\n",
       "\n",
       "#sk-container-id-1 input.sk-hidden--visually {\n",
       "  border: 0;\n",
       "  clip: rect(1px 1px 1px 1px);\n",
       "  clip: rect(1px, 1px, 1px, 1px);\n",
       "  height: 1px;\n",
       "  margin: -1px;\n",
       "  overflow: hidden;\n",
       "  padding: 0;\n",
       "  position: absolute;\n",
       "  width: 1px;\n",
       "}\n",
       "\n",
       "#sk-container-id-1 div.sk-dashed-wrapped {\n",
       "  border: 1px dashed var(--sklearn-color-line);\n",
       "  margin: 0 0.4em 0.5em 0.4em;\n",
       "  box-sizing: border-box;\n",
       "  padding-bottom: 0.4em;\n",
       "  background-color: var(--sklearn-color-background);\n",
       "}\n",
       "\n",
       "#sk-container-id-1 div.sk-container {\n",
       "  /* jupyter's `normalize.less` sets `[hidden] { display: none; }`\n",
       "     but bootstrap.min.css set `[hidden] { display: none !important; }`\n",
       "     so we also need the `!important` here to be able to override the\n",
       "     default hidden behavior on the sphinx rendered scikit-learn.org.\n",
       "     See: https://github.com/scikit-learn/scikit-learn/issues/21755 */\n",
       "  display: inline-block !important;\n",
       "  position: relative;\n",
       "}\n",
       "\n",
       "#sk-container-id-1 div.sk-text-repr-fallback {\n",
       "  display: none;\n",
       "}\n",
       "\n",
       "div.sk-parallel-item,\n",
       "div.sk-serial,\n",
       "div.sk-item {\n",
       "  /* draw centered vertical line to link estimators */\n",
       "  background-image: linear-gradient(var(--sklearn-color-text-on-default-background), var(--sklearn-color-text-on-default-background));\n",
       "  background-size: 2px 100%;\n",
       "  background-repeat: no-repeat;\n",
       "  background-position: center center;\n",
       "}\n",
       "\n",
       "/* Parallel-specific style estimator block */\n",
       "\n",
       "#sk-container-id-1 div.sk-parallel-item::after {\n",
       "  content: \"\";\n",
       "  width: 100%;\n",
       "  border-bottom: 2px solid var(--sklearn-color-text-on-default-background);\n",
       "  flex-grow: 1;\n",
       "}\n",
       "\n",
       "#sk-container-id-1 div.sk-parallel {\n",
       "  display: flex;\n",
       "  align-items: stretch;\n",
       "  justify-content: center;\n",
       "  background-color: var(--sklearn-color-background);\n",
       "  position: relative;\n",
       "}\n",
       "\n",
       "#sk-container-id-1 div.sk-parallel-item {\n",
       "  display: flex;\n",
       "  flex-direction: column;\n",
       "}\n",
       "\n",
       "#sk-container-id-1 div.sk-parallel-item:first-child::after {\n",
       "  align-self: flex-end;\n",
       "  width: 50%;\n",
       "}\n",
       "\n",
       "#sk-container-id-1 div.sk-parallel-item:last-child::after {\n",
       "  align-self: flex-start;\n",
       "  width: 50%;\n",
       "}\n",
       "\n",
       "#sk-container-id-1 div.sk-parallel-item:only-child::after {\n",
       "  width: 0;\n",
       "}\n",
       "\n",
       "/* Serial-specific style estimator block */\n",
       "\n",
       "#sk-container-id-1 div.sk-serial {\n",
       "  display: flex;\n",
       "  flex-direction: column;\n",
       "  align-items: center;\n",
       "  background-color: var(--sklearn-color-background);\n",
       "  padding-right: 1em;\n",
       "  padding-left: 1em;\n",
       "}\n",
       "\n",
       "\n",
       "/* Toggleable style: style used for estimator/Pipeline/ColumnTransformer box that is\n",
       "clickable and can be expanded/collapsed.\n",
       "- Pipeline and ColumnTransformer use this feature and define the default style\n",
       "- Estimators will overwrite some part of the style using the `sk-estimator` class\n",
       "*/\n",
       "\n",
       "/* Pipeline and ColumnTransformer style (default) */\n",
       "\n",
       "#sk-container-id-1 div.sk-toggleable {\n",
       "  /* Default theme specific background. It is overwritten whether we have a\n",
       "  specific estimator or a Pipeline/ColumnTransformer */\n",
       "  background-color: var(--sklearn-color-background);\n",
       "}\n",
       "\n",
       "/* Toggleable label */\n",
       "#sk-container-id-1 label.sk-toggleable__label {\n",
       "  cursor: pointer;\n",
       "  display: block;\n",
       "  width: 100%;\n",
       "  margin-bottom: 0;\n",
       "  padding: 0.5em;\n",
       "  box-sizing: border-box;\n",
       "  text-align: center;\n",
       "}\n",
       "\n",
       "#sk-container-id-1 label.sk-toggleable__label-arrow:before {\n",
       "  /* Arrow on the left of the label */\n",
       "  content: \"▸\";\n",
       "  float: left;\n",
       "  margin-right: 0.25em;\n",
       "  color: var(--sklearn-color-icon);\n",
       "}\n",
       "\n",
       "#sk-container-id-1 label.sk-toggleable__label-arrow:hover:before {\n",
       "  color: var(--sklearn-color-text);\n",
       "}\n",
       "\n",
       "/* Toggleable content - dropdown */\n",
       "\n",
       "#sk-container-id-1 div.sk-toggleable__content {\n",
       "  max-height: 0;\n",
       "  max-width: 0;\n",
       "  overflow: hidden;\n",
       "  text-align: left;\n",
       "  /* unfitted */\n",
       "  background-color: var(--sklearn-color-unfitted-level-0);\n",
       "}\n",
       "\n",
       "#sk-container-id-1 div.sk-toggleable__content.fitted {\n",
       "  /* fitted */\n",
       "  background-color: var(--sklearn-color-fitted-level-0);\n",
       "}\n",
       "\n",
       "#sk-container-id-1 div.sk-toggleable__content pre {\n",
       "  margin: 0.2em;\n",
       "  border-radius: 0.25em;\n",
       "  color: var(--sklearn-color-text);\n",
       "  /* unfitted */\n",
       "  background-color: var(--sklearn-color-unfitted-level-0);\n",
       "}\n",
       "\n",
       "#sk-container-id-1 div.sk-toggleable__content.fitted pre {\n",
       "  /* unfitted */\n",
       "  background-color: var(--sklearn-color-fitted-level-0);\n",
       "}\n",
       "\n",
       "#sk-container-id-1 input.sk-toggleable__control:checked~div.sk-toggleable__content {\n",
       "  /* Expand drop-down */\n",
       "  max-height: 200px;\n",
       "  max-width: 100%;\n",
       "  overflow: auto;\n",
       "}\n",
       "\n",
       "#sk-container-id-1 input.sk-toggleable__control:checked~label.sk-toggleable__label-arrow:before {\n",
       "  content: \"▾\";\n",
       "}\n",
       "\n",
       "/* Pipeline/ColumnTransformer-specific style */\n",
       "\n",
       "#sk-container-id-1 div.sk-label input.sk-toggleable__control:checked~label.sk-toggleable__label {\n",
       "  color: var(--sklearn-color-text);\n",
       "  background-color: var(--sklearn-color-unfitted-level-2);\n",
       "}\n",
       "\n",
       "#sk-container-id-1 div.sk-label.fitted input.sk-toggleable__control:checked~label.sk-toggleable__label {\n",
       "  background-color: var(--sklearn-color-fitted-level-2);\n",
       "}\n",
       "\n",
       "/* Estimator-specific style */\n",
       "\n",
       "/* Colorize estimator box */\n",
       "#sk-container-id-1 div.sk-estimator input.sk-toggleable__control:checked~label.sk-toggleable__label {\n",
       "  /* unfitted */\n",
       "  background-color: var(--sklearn-color-unfitted-level-2);\n",
       "}\n",
       "\n",
       "#sk-container-id-1 div.sk-estimator.fitted input.sk-toggleable__control:checked~label.sk-toggleable__label {\n",
       "  /* fitted */\n",
       "  background-color: var(--sklearn-color-fitted-level-2);\n",
       "}\n",
       "\n",
       "#sk-container-id-1 div.sk-label label.sk-toggleable__label,\n",
       "#sk-container-id-1 div.sk-label label {\n",
       "  /* The background is the default theme color */\n",
       "  color: var(--sklearn-color-text-on-default-background);\n",
       "}\n",
       "\n",
       "/* On hover, darken the color of the background */\n",
       "#sk-container-id-1 div.sk-label:hover label.sk-toggleable__label {\n",
       "  color: var(--sklearn-color-text);\n",
       "  background-color: var(--sklearn-color-unfitted-level-2);\n",
       "}\n",
       "\n",
       "/* Label box, darken color on hover, fitted */\n",
       "#sk-container-id-1 div.sk-label.fitted:hover label.sk-toggleable__label.fitted {\n",
       "  color: var(--sklearn-color-text);\n",
       "  background-color: var(--sklearn-color-fitted-level-2);\n",
       "}\n",
       "\n",
       "/* Estimator label */\n",
       "\n",
       "#sk-container-id-1 div.sk-label label {\n",
       "  font-family: monospace;\n",
       "  font-weight: bold;\n",
       "  display: inline-block;\n",
       "  line-height: 1.2em;\n",
       "}\n",
       "\n",
       "#sk-container-id-1 div.sk-label-container {\n",
       "  text-align: center;\n",
       "}\n",
       "\n",
       "/* Estimator-specific */\n",
       "#sk-container-id-1 div.sk-estimator {\n",
       "  font-family: monospace;\n",
       "  border: 1px dotted var(--sklearn-color-border-box);\n",
       "  border-radius: 0.25em;\n",
       "  box-sizing: border-box;\n",
       "  margin-bottom: 0.5em;\n",
       "  /* unfitted */\n",
       "  background-color: var(--sklearn-color-unfitted-level-0);\n",
       "}\n",
       "\n",
       "#sk-container-id-1 div.sk-estimator.fitted {\n",
       "  /* fitted */\n",
       "  background-color: var(--sklearn-color-fitted-level-0);\n",
       "}\n",
       "\n",
       "/* on hover */\n",
       "#sk-container-id-1 div.sk-estimator:hover {\n",
       "  /* unfitted */\n",
       "  background-color: var(--sklearn-color-unfitted-level-2);\n",
       "}\n",
       "\n",
       "#sk-container-id-1 div.sk-estimator.fitted:hover {\n",
       "  /* fitted */\n",
       "  background-color: var(--sklearn-color-fitted-level-2);\n",
       "}\n",
       "\n",
       "/* Specification for estimator info (e.g. \"i\" and \"?\") */\n",
       "\n",
       "/* Common style for \"i\" and \"?\" */\n",
       "\n",
       ".sk-estimator-doc-link,\n",
       "a:link.sk-estimator-doc-link,\n",
       "a:visited.sk-estimator-doc-link {\n",
       "  float: right;\n",
       "  font-size: smaller;\n",
       "  line-height: 1em;\n",
       "  font-family: monospace;\n",
       "  background-color: var(--sklearn-color-background);\n",
       "  border-radius: 1em;\n",
       "  height: 1em;\n",
       "  width: 1em;\n",
       "  text-decoration: none !important;\n",
       "  margin-left: 1ex;\n",
       "  /* unfitted */\n",
       "  border: var(--sklearn-color-unfitted-level-1) 1pt solid;\n",
       "  color: var(--sklearn-color-unfitted-level-1);\n",
       "}\n",
       "\n",
       ".sk-estimator-doc-link.fitted,\n",
       "a:link.sk-estimator-doc-link.fitted,\n",
       "a:visited.sk-estimator-doc-link.fitted {\n",
       "  /* fitted */\n",
       "  border: var(--sklearn-color-fitted-level-1) 1pt solid;\n",
       "  color: var(--sklearn-color-fitted-level-1);\n",
       "}\n",
       "\n",
       "/* On hover */\n",
       "div.sk-estimator:hover .sk-estimator-doc-link:hover,\n",
       ".sk-estimator-doc-link:hover,\n",
       "div.sk-label-container:hover .sk-estimator-doc-link:hover,\n",
       ".sk-estimator-doc-link:hover {\n",
       "  /* unfitted */\n",
       "  background-color: var(--sklearn-color-unfitted-level-3);\n",
       "  color: var(--sklearn-color-background);\n",
       "  text-decoration: none;\n",
       "}\n",
       "\n",
       "div.sk-estimator.fitted:hover .sk-estimator-doc-link.fitted:hover,\n",
       ".sk-estimator-doc-link.fitted:hover,\n",
       "div.sk-label-container:hover .sk-estimator-doc-link.fitted:hover,\n",
       ".sk-estimator-doc-link.fitted:hover {\n",
       "  /* fitted */\n",
       "  background-color: var(--sklearn-color-fitted-level-3);\n",
       "  color: var(--sklearn-color-background);\n",
       "  text-decoration: none;\n",
       "}\n",
       "\n",
       "/* Span, style for the box shown on hovering the info icon */\n",
       ".sk-estimator-doc-link span {\n",
       "  display: none;\n",
       "  z-index: 9999;\n",
       "  position: relative;\n",
       "  font-weight: normal;\n",
       "  right: .2ex;\n",
       "  padding: .5ex;\n",
       "  margin: .5ex;\n",
       "  width: min-content;\n",
       "  min-width: 20ex;\n",
       "  max-width: 50ex;\n",
       "  color: var(--sklearn-color-text);\n",
       "  box-shadow: 2pt 2pt 4pt #999;\n",
       "  /* unfitted */\n",
       "  background: var(--sklearn-color-unfitted-level-0);\n",
       "  border: .5pt solid var(--sklearn-color-unfitted-level-3);\n",
       "}\n",
       "\n",
       ".sk-estimator-doc-link.fitted span {\n",
       "  /* fitted */\n",
       "  background: var(--sklearn-color-fitted-level-0);\n",
       "  border: var(--sklearn-color-fitted-level-3);\n",
       "}\n",
       "\n",
       ".sk-estimator-doc-link:hover span {\n",
       "  display: block;\n",
       "}\n",
       "\n",
       "/* \"?\"-specific style due to the `<a>` HTML tag */\n",
       "\n",
       "#sk-container-id-1 a.estimator_doc_link {\n",
       "  float: right;\n",
       "  font-size: 1rem;\n",
       "  line-height: 1em;\n",
       "  font-family: monospace;\n",
       "  background-color: var(--sklearn-color-background);\n",
       "  border-radius: 1rem;\n",
       "  height: 1rem;\n",
       "  width: 1rem;\n",
       "  text-decoration: none;\n",
       "  /* unfitted */\n",
       "  color: var(--sklearn-color-unfitted-level-1);\n",
       "  border: var(--sklearn-color-unfitted-level-1) 1pt solid;\n",
       "}\n",
       "\n",
       "#sk-container-id-1 a.estimator_doc_link.fitted {\n",
       "  /* fitted */\n",
       "  border: var(--sklearn-color-fitted-level-1) 1pt solid;\n",
       "  color: var(--sklearn-color-fitted-level-1);\n",
       "}\n",
       "\n",
       "/* On hover */\n",
       "#sk-container-id-1 a.estimator_doc_link:hover {\n",
       "  /* unfitted */\n",
       "  background-color: var(--sklearn-color-unfitted-level-3);\n",
       "  color: var(--sklearn-color-background);\n",
       "  text-decoration: none;\n",
       "}\n",
       "\n",
       "#sk-container-id-1 a.estimator_doc_link.fitted:hover {\n",
       "  /* fitted */\n",
       "  background-color: var(--sklearn-color-fitted-level-3);\n",
       "}\n",
       "</style><div id=\"sk-container-id-1\" class=\"sk-top-container\"><div class=\"sk-text-repr-fallback\"><pre>RandomForestClassifier()</pre><b>In a Jupyter environment, please rerun this cell to show the HTML representation or trust the notebook. <br />On GitHub, the HTML representation is unable to render, please try loading this page with nbviewer.org.</b></div><div class=\"sk-container\" hidden><div class=\"sk-item\"><div class=\"sk-estimator fitted sk-toggleable\"><input class=\"sk-toggleable__control sk-hidden--visually\" id=\"sk-estimator-id-1\" type=\"checkbox\" checked><label for=\"sk-estimator-id-1\" class=\"sk-toggleable__label fitted sk-toggleable__label-arrow fitted\">&nbsp;&nbsp;RandomForestClassifier<a class=\"sk-estimator-doc-link fitted\" rel=\"noreferrer\" target=\"_blank\" href=\"https://scikit-learn.org/1.5/modules/generated/sklearn.ensemble.RandomForestClassifier.html\">?<span>Documentation for RandomForestClassifier</span></a><span class=\"sk-estimator-doc-link fitted\">i<span>Fitted</span></span></label><div class=\"sk-toggleable__content fitted\"><pre>RandomForestClassifier()</pre></div> </div></div></div></div>"
      ],
      "text/plain": [
       "RandomForestClassifier()"
      ]
     },
     "execution_count": 17,
     "metadata": {},
     "output_type": "execute_result"
    }
   ],
   "source": [
    "rf.fit(X_train,y_train)"
   ]
  },
  {
   "cell_type": "code",
   "execution_count": 18,
   "id": "86beb830-e84f-46db-a3af-c679787049db",
   "metadata": {},
   "outputs": [],
   "source": [
    "y_pred = rf.predict(X_test)"
   ]
  },
  {
   "cell_type": "code",
   "execution_count": 19,
   "id": "f3264d8f-6924-446d-9fe7-7f60b408c8c6",
   "metadata": {},
   "outputs": [
    {
     "name": "stdout",
     "output_type": "stream",
     "text": [
      "              precision    recall  f1-score   support\n",
      "\n",
      "           0       0.97      1.00      0.98     18292\n",
      "           1       0.94      0.69      0.80      1708\n",
      "\n",
      "    accuracy                           0.97     20000\n",
      "   macro avg       0.96      0.84      0.89     20000\n",
      "weighted avg       0.97      0.97      0.97     20000\n",
      "\n"
     ]
    }
   ],
   "source": [
    "print(classification_report(y_test,y_pred))"
   ]
  },
  {
   "cell_type": "code",
   "execution_count": 20,
   "id": "421c1aa7-43a7-40ff-b8a6-b15f6ff9c00d",
   "metadata": {},
   "outputs": [
    {
     "data": {
      "text/plain": [
       "np.float64(0.7958079783637593)"
      ]
     },
     "execution_count": 20,
     "metadata": {},
     "output_type": "execute_result"
    }
   ],
   "source": [
    "f1_score(y_test,y_pred)\n"
   ]
  },
  {
   "cell_type": "code",
   "execution_count": 32,
   "id": "b4b619c7-4bd9-42e4-af36-e26ef364fadb",
   "metadata": {},
   "outputs": [
    {
     "data": {
      "image/png": "[encoded data removed]",
      "text/plain": [
       "<Figure size 400x300 with 1 Axes>"
      ]
     },
     "metadata": {},
     "output_type": "display_data"
    }
   ],
   "source": [
    "label = ['Non-diabetic', 'Diabetic']\n",
    "cm = confusion_matrix(y_test,y_pred)\n",
    "plt.figure(figsize=(4, 3))\n",
    "\n",
    "# Create a heatmap using seaborn\n",
    "sns.heatmap(cm, annot=True, fmt='d', cmap='Blues', cbar=False,\n",
    "            xticklabels=label,\n",
    "            yticklabels=label)\n",
    "\n",
    "# Add labels and title\n",
    "plt.ylabel('Actual label')\n",
    "plt.xlabel('Predicted label')\n",
    "plt.title('Confusion Matrix')\n",
    "\n",
    "# Show the plot\n",
    "plt.show()"
   ]
  },
  {
   "cell_type": "markdown",
   "id": "bac52ea3-c2f3-40ea-8b83-bedaa12f7c39",
   "metadata": {},
   "source": [
    "# Class 0 (Non-diabetic):\n",
    "- __Precision (0.97):__ Out of all the instances predicted as non-diabetic, 97% were correctly identified as non-diabetic.\n",
    "- __Recall (1.00):__ The model successfully identified all actual non-diabetic cases, meaning it didn’t miss any non-diabetic instances.\n",
    "- __F1-Score (0.98):__ The F1-score, which balances precision and recall, is very high, indicating excellent performance for predicting non-diabetic cases.\n",
    "\n",
    "# Class 1 (Diabetic):\n",
    "- __Precision (0.94):__ Out of all the instances predicted as diabetic, 94% were correctly classified as diabetic.\n",
    "- __Recall (0.69):__ The model only captured 69% of the actual diabetic cases, meaning 31% of true diabetic cases were missed by the model.\n",
    "- __F1-Score (0.80):__ This shows the model's ability to handle diabetic cases, though the lower recall pulls down the F1-score.\n",
    "\n",
    "# Conclusion:\n",
    "We can clearly see model is biased towards majority class(i.e Non Diabetic) so we have used any one of the sampling technique to overcome imbalance in dataset.\n",
    "Although, it can deviate in some degree from real world situation but it can acceptable."
   ]
  },
  {
   "cell_type": "markdown",
   "id": "5f75977a-8024-4d32-8937-e0d7fb1053ae",
   "metadata": {},
   "source": [
    "# Handling Imbalance using SMOTE technique"
   ]
  },
  {
   "cell_type": "markdown",
   "id": "9e3bb0a4-b7b7-4443-871c-d335197607f9",
   "metadata": {},
   "source": [
    "- __Combining Oversampling and Undersampling:__ SMOTETomek combines SMOTE (Synthetic Minority Over-sampling Technique) and Tomek links. SMOTE oversamples the minority class by creating synthetic samples, while Tomek links are used to undersample by removing overlapping or noisy examples from the majority class.\n",
    "\n",
    "- __Reducing Class Overlap:__ SMOTETomek helps to reduce class overlap by removing Tomek links, which are pairs of instances (one from the majority class and one from the minority class) that are closest to each other and likely to be misclassified."
   ]
  },
  {
   "cell_type": "code",
   "execution_count": 22,
   "id": "7a7a5afe-3de5-45be-a42e-ba67b6518333",
   "metadata": {},
   "outputs": [],
   "source": [
    "from imblearn.combine import SMOTETomek\n",
    "sm=SMOTETomek(random_state=42)\n"
   ]
  },
  {
   "cell_type": "code",
   "execution_count": 23,
   "id": "7bb53240-502d-4782-80fd-83b810d39b66",
   "metadata": {},
   "outputs": [
    {
     "name": "stdout",
     "output_type": "stream",
     "text": [
      "(181664, 8)\n",
      "(181664,)\n"
     ]
    }
   ],
   "source": [
    "X_resample,y_resample=sm.fit_resample(X_scaled,y)\n",
    "print(X_resample.shape)\n",
    "print(y_resample.shape)\n"
   ]
  },
  {
   "cell_type": "code",
   "execution_count": 24,
   "id": "5860da65-baff-4ecc-87fa-b1ea1a86e7eb",
   "metadata": {},
   "outputs": [
    {
     "name": "stdout",
     "output_type": "stream",
     "text": [
      "diabetes\n",
      "0    90832\n",
      "1    90832\n",
      "Name: count, dtype: int64\n"
     ]
    },
    {
     "data": {
      "image/png": "[encoded data removed]",
      "text/plain": [
       "<Figure size 400x300 with 1 Axes>"
      ]
     },
     "metadata": {},
     "output_type": "display_data"
    }
   ],
   "source": [
    "label_counts = y_resample.value_counts()\n",
    "print(label_counts)\n",
    "\n",
    "plt.figure(figsize=(4, 3))\n",
    "plt.bar(label_names[label_counts.index], label_counts.values, color='skyblue')\n",
    "\n",
    "plt.xticks(rotation='vertical')\n",
    "plt.xlabel('Label Name')\n",
    "plt.ylabel('Frequency')\n",
    "plt.title('Label Frequencies')\n",
    "plt.legend(['Labels'])\n",
    "plt.show()\n"
   ]
  },
  {
   "cell_type": "code",
   "execution_count": 25,
   "id": "b04f1ddf-e605-4176-8502-44cddbe9d925",
   "metadata": {},
   "outputs": [
    {
     "name": "stdout",
     "output_type": "stream",
     "text": [
      "(145331, 8)\n",
      "(36333, 8)\n",
      "(145331,)\n",
      "(36333,)\n"
     ]
    }
   ],
   "source": [
    "X_train_rs,X_test_rs,y_train_rs,y_test_rs = train_test_split(X_resample,y_resample,test_size=0.2,random_state=42)\n",
    "\n",
    "print(X_train_rs.shape)\n",
    "print(X_test_rs.shape)\n",
    "print(y_train_rs.shape)\n",
    "print(y_test_rs.shape)\n"
   ]
  },
  {
   "cell_type": "code",
   "execution_count": 26,
   "id": "6c50e26f-555b-4873-8514-88f1cc58266f",
   "metadata": {},
   "outputs": [],
   "source": [
    "clf = RandomForestClassifier()\n"
   ]
  },
  {
   "cell_type": "code",
   "execution_count": 27,
   "id": "14585c54-af5c-495a-a53c-2d48d1667222",
   "metadata": {},
   "outputs": [
    {
     "data": {
      "text/html": [
       "<style>#sk-container-id-2 {\n",
       "  /* Definition of color scheme common for light and dark mode */\n",
       "  --sklearn-color-text: black;\n",
       "  --sklearn-color-line: gray;\n",
       "  /* Definition of color scheme for unfitted estimators */\n",
       "  --sklearn-color-unfitted-level-0: #fff5e6;\n",
       "  --sklearn-color-unfitted-level-1: #f6e4d2;\n",
       "  --sklearn-color-unfitted-level-2: #ffe0b3;\n",
       "  --sklearn-color-unfitted-level-3: chocolate;\n",
       "  /* Definition of color scheme for fitted estimators */\n",
       "  --sklearn-color-fitted-level-0: #f0f8ff;\n",
       "  --sklearn-color-fitted-level-1: #d4ebff;\n",
       "  --sklearn-color-fitted-level-2: #b3dbfd;\n",
       "  --sklearn-color-fitted-level-3: cornflowerblue;\n",
       "\n",
       "  /* Specific color for light theme */\n",
       "  --sklearn-color-text-on-default-background: var(--sg-text-color, var(--theme-code-foreground, var(--jp-content-font-color1, black)));\n",
       "  --sklearn-color-background: var(--sg-background-color, var(--theme-background, var(--jp-layout-color0, white)));\n",
       "  --sklearn-color-border-box: var(--sg-text-color, var(--theme-code-foreground, var(--jp-content-font-color1, black)));\n",
       "  --sklearn-color-icon: #696969;\n",
       "\n",
       "  @media (prefers-color-scheme: dark) {\n",
       "    /* Redefinition of color scheme for dark theme */\n",
       "    --sklearn-color-text-on-default-background: var(--sg-text-color, var(--theme-code-foreground, var(--jp-content-font-color1, white)));\n",
       "    --sklearn-color-background: var(--sg-background-color, var(--theme-background, var(--jp-layout-color0, #111)));\n",
       "    --sklearn-color-border-box: var(--sg-text-color, var(--theme-code-foreground, var(--jp-content-font-color1, white)));\n",
       "    --sklearn-color-icon: #878787;\n",
       "  }\n",
       "}\n",
       "\n",
       "#sk-container-id-2 {\n",
       "  color: var(--sklearn-color-text);\n",
       "}\n",
       "\n",
       "#sk-container-id-2 pre {\n",
       "  padding: 0;\n",
       "}\n",
       "\n",
       "#sk-container-id-2 input.sk-hidden--visually {\n",
       "  border: 0;\n",
       "  clip: rect(1px 1px 1px 1px);\n",
       "  clip: rect(1px, 1px, 1px, 1px);\n",
       "  height: 1px;\n",
       "  margin: -1px;\n",
       "  overflow: hidden;\n",
       "  padding: 0;\n",
       "  position: absolute;\n",
       "  width: 1px;\n",
       "}\n",
       "\n",
       "#sk-container-id-2 div.sk-dashed-wrapped {\n",
       "  border: 1px dashed var(--sklearn-color-line);\n",
       "  margin: 0 0.4em 0.5em 0.4em;\n",
       "  box-sizing: border-box;\n",
       "  padding-bottom: 0.4em;\n",
       "  background-color: var(--sklearn-color-background);\n",
       "}\n",
       "\n",
       "#sk-container-id-2 div.sk-container {\n",
       "  /* jupyter's `normalize.less` sets `[hidden] { display: none; }`\n",
       "     but bootstrap.min.css set `[hidden] { display: none !important; }`\n",
       "     so we also need the `!important` here to be able to override the\n",
       "     default hidden behavior on the sphinx rendered scikit-learn.org.\n",
       "     See: https://github.com/scikit-learn/scikit-learn/issues/21755 */\n",
       "  display: inline-block !important;\n",
       "  position: relative;\n",
       "}\n",
       "\n",
       "#sk-container-id-2 div.sk-text-repr-fallback {\n",
       "  display: none;\n",
       "}\n",
       "\n",
       "div.sk-parallel-item,\n",
       "div.sk-serial,\n",
       "div.sk-item {\n",
       "  /* draw centered vertical line to link estimators */\n",
       "  background-image: linear-gradient(var(--sklearn-color-text-on-default-background), var(--sklearn-color-text-on-default-background));\n",
       "  background-size: 2px 100%;\n",
       "  background-repeat: no-repeat;\n",
       "  background-position: center center;\n",
       "}\n",
       "\n",
       "/* Parallel-specific style estimator block */\n",
       "\n",
       "#sk-container-id-2 div.sk-parallel-item::after {\n",
       "  content: \"\";\n",
       "  width: 100%;\n",
       "  border-bottom: 2px solid var(--sklearn-color-text-on-default-background);\n",
       "  flex-grow: 1;\n",
       "}\n",
       "\n",
       "#sk-container-id-2 div.sk-parallel {\n",
       "  display: flex;\n",
       "  align-items: stretch;\n",
       "  justify-content: center;\n",
       "  background-color: var(--sklearn-color-background);\n",
       "  position: relative;\n",
       "}\n",
       "\n",
       "#sk-container-id-2 div.sk-parallel-item {\n",
       "  display: flex;\n",
       "  flex-direction: column;\n",
       "}\n",
       "\n",
       "#sk-container-id-2 div.sk-parallel-item:first-child::after {\n",
       "  align-self: flex-end;\n",
       "  width: 50%;\n",
       "}\n",
       "\n",
       "#sk-container-id-2 div.sk-parallel-item:last-child::after {\n",
       "  align-self: flex-start;\n",
       "  width: 50%;\n",
       "}\n",
       "\n",
       "#sk-container-id-2 div.sk-parallel-item:only-child::after {\n",
       "  width: 0;\n",
       "}\n",
       "\n",
       "/* Serial-specific style estimator block */\n",
       "\n",
       "#sk-container-id-2 div.sk-serial {\n",
       "  display: flex;\n",
       "  flex-direction: column;\n",
       "  align-items: center;\n",
       "  background-color: var(--sklearn-color-background);\n",
       "  padding-right: 1em;\n",
       "  padding-left: 1em;\n",
       "}\n",
       "\n",
       "\n",
       "/* Toggleable style: style used for estimator/Pipeline/ColumnTransformer box that is\n",
       "clickable and can be expanded/collapsed.\n",
       "- Pipeline and ColumnTransformer use this feature and define the default style\n",
       "- Estimators will overwrite some part of the style using the `sk-estimator` class\n",
       "*/\n",
       "\n",
       "/* Pipeline and ColumnTransformer style (default) */\n",
       "\n",
       "#sk-container-id-2 div.sk-toggleable {\n",
       "  /* Default theme specific background. It is overwritten whether we have a\n",
       "  specific estimator or a Pipeline/ColumnTransformer */\n",
       "  background-color: var(--sklearn-color-background);\n",
       "}\n",
       "\n",
       "/* Toggleable label */\n",
       "#sk-container-id-2 label.sk-toggleable__label {\n",
       "  cursor: pointer;\n",
       "  display: block;\n",
       "  width: 100%;\n",
       "  margin-bottom: 0;\n",
       "  padding: 0.5em;\n",
       "  box-sizing: border-box;\n",
       "  text-align: center;\n",
       "}\n",
       "\n",
       "#sk-container-id-2 label.sk-toggleable__label-arrow:before {\n",
       "  /* Arrow on the left of the label */\n",
       "  content: \"▸\";\n",
       "  float: left;\n",
       "  margin-right: 0.25em;\n",
       "  color: var(--sklearn-color-icon);\n",
       "}\n",
       "\n",
       "#sk-container-id-2 label.sk-toggleable__label-arrow:hover:before {\n",
       "  color: var(--sklearn-color-text);\n",
       "}\n",
       "\n",
       "/* Toggleable content - dropdown */\n",
       "\n",
       "#sk-container-id-2 div.sk-toggleable__content {\n",
       "  max-height: 0;\n",
       "  max-width: 0;\n",
       "  overflow: hidden;\n",
       "  text-align: left;\n",
       "  /* unfitted */\n",
       "  background-color: var(--sklearn-color-unfitted-level-0);\n",
       "}\n",
       "\n",
       "#sk-container-id-2 div.sk-toggleable__content.fitted {\n",
       "  /* fitted */\n",
       "  background-color: var(--sklearn-color-fitted-level-0);\n",
       "}\n",
       "\n",
       "#sk-container-id-2 div.sk-toggleable__content pre {\n",
       "  margin: 0.2em;\n",
       "  border-radius: 0.25em;\n",
       "  color: var(--sklearn-color-text);\n",
       "  /* unfitted */\n",
       "  background-color: var(--sklearn-color-unfitted-level-0);\n",
       "}\n",
       "\n",
       "#sk-container-id-2 div.sk-toggleable__content.fitted pre {\n",
       "  /* unfitted */\n",
       "  background-color: var(--sklearn-color-fitted-level-0);\n",
       "}\n",
       "\n",
       "#sk-container-id-2 input.sk-toggleable__control:checked~div.sk-toggleable__content {\n",
       "  /* Expand drop-down */\n",
       "  max-height: 200px;\n",
       "  max-width: 100%;\n",
       "  overflow: auto;\n",
       "}\n",
       "\n",
       "#sk-container-id-2 input.sk-toggleable__control:checked~label.sk-toggleable__label-arrow:before {\n",
       "  content: \"▾\";\n",
       "}\n",
       "\n",
       "/* Pipeline/ColumnTransformer-specific style */\n",
       "\n",
       "#sk-container-id-2 div.sk-label input.sk-toggleable__control:checked~label.sk-toggleable__label {\n",
       "  color: var(--sklearn-color-text);\n",
       "  background-color: var(--sklearn-color-unfitted-level-2);\n",
       "}\n",
       "\n",
       "#sk-container-id-2 div.sk-label.fitted input.sk-toggleable__control:checked~label.sk-toggleable__label {\n",
       "  background-color: var(--sklearn-color-fitted-level-2);\n",
       "}\n",
       "\n",
       "/* Estimator-specific style */\n",
       "\n",
       "/* Colorize estimator box */\n",
       "#sk-container-id-2 div.sk-estimator input.sk-toggleable__control:checked~label.sk-toggleable__label {\n",
       "  /* unfitted */\n",
       "  background-color: var(--sklearn-color-unfitted-level-2);\n",
       "}\n",
       "\n",
       "#sk-container-id-2 div.sk-estimator.fitted input.sk-toggleable__control:checked~label.sk-toggleable__label {\n",
       "  /* fitted */\n",
       "  background-color: var(--sklearn-color-fitted-level-2);\n",
       "}\n",
       "\n",
       "#sk-container-id-2 div.sk-label label.sk-toggleable__label,\n",
       "#sk-container-id-2 div.sk-label label {\n",
       "  /* The background is the default theme color */\n",
       "  color: var(--sklearn-color-text-on-default-background);\n",
       "}\n",
       "\n",
       "/* On hover, darken the color of the background */\n",
       "#sk-container-id-2 div.sk-label:hover label.sk-toggleable__label {\n",
       "  color: var(--sklearn-color-text);\n",
       "  background-color: var(--sklearn-color-unfitted-level-2);\n",
       "}\n",
       "\n",
       "/* Label box, darken color on hover, fitted */\n",
       "#sk-container-id-2 div.sk-label.fitted:hover label.sk-toggleable__label.fitted {\n",
       "  color: var(--sklearn-color-text);\n",
       "  background-color: var(--sklearn-color-fitted-level-2);\n",
       "}\n",
       "\n",
       "/* Estimator label */\n",
       "\n",
       "#sk-container-id-2 div.sk-label label {\n",
       "  font-family: monospace;\n",
       "  font-weight: bold;\n",
       "  display: inline-block;\n",
       "  line-height: 1.2em;\n",
       "}\n",
       "\n",
       "#sk-container-id-2 div.sk-label-container {\n",
       "  text-align: center;\n",
       "}\n",
       "\n",
       "/* Estimator-specific */\n",
       "#sk-container-id-2 div.sk-estimator {\n",
       "  font-family: monospace;\n",
       "  border: 1px dotted var(--sklearn-color-border-box);\n",
       "  border-radius: 0.25em;\n",
       "  box-sizing: border-box;\n",
       "  margin-bottom: 0.5em;\n",
       "  /* unfitted */\n",
       "  background-color: var(--sklearn-color-unfitted-level-0);\n",
       "}\n",
       "\n",
       "#sk-container-id-2 div.sk-estimator.fitted {\n",
       "  /* fitted */\n",
       "  background-color: var(--sklearn-color-fitted-level-0);\n",
       "}\n",
       "\n",
       "/* on hover */\n",
       "#sk-container-id-2 div.sk-estimator:hover {\n",
       "  /* unfitted */\n",
       "  background-color: var(--sklearn-color-unfitted-level-2);\n",
       "}\n",
       "\n",
       "#sk-container-id-2 div.sk-estimator.fitted:hover {\n",
       "  /* fitted */\n",
       "  background-color: var(--sklearn-color-fitted-level-2);\n",
       "}\n",
       "\n",
       "/* Specification for estimator info (e.g. \"i\" and \"?\") */\n",
       "\n",
       "/* Common style for \"i\" and \"?\" */\n",
       "\n",
       ".sk-estimator-doc-link,\n",
       "a:link.sk-estimator-doc-link,\n",
       "a:visited.sk-estimator-doc-link {\n",
       "  float: right;\n",
       "  font-size: smaller;\n",
       "  line-height: 1em;\n",
       "  font-family: monospace;\n",
       "  background-color: var(--sklearn-color-background);\n",
       "  border-radius: 1em;\n",
       "  height: 1em;\n",
       "  width: 1em;\n",
       "  text-decoration: none !important;\n",
       "  margin-left: 1ex;\n",
       "  /* unfitted */\n",
       "  border: var(--sklearn-color-unfitted-level-1) 1pt solid;\n",
       "  color: var(--sklearn-color-unfitted-level-1);\n",
       "}\n",
       "\n",
       ".sk-estimator-doc-link.fitted,\n",
       "a:link.sk-estimator-doc-link.fitted,\n",
       "a:visited.sk-estimator-doc-link.fitted {\n",
       "  /* fitted */\n",
       "  border: var(--sklearn-color-fitted-level-1) 1pt solid;\n",
       "  color: var(--sklearn-color-fitted-level-1);\n",
       "}\n",
       "\n",
       "/* On hover */\n",
       "div.sk-estimator:hover .sk-estimator-doc-link:hover,\n",
       ".sk-estimator-doc-link:hover,\n",
       "div.sk-label-container:hover .sk-estimator-doc-link:hover,\n",
       ".sk-estimator-doc-link:hover {\n",
       "  /* unfitted */\n",
       "  background-color: var(--sklearn-color-unfitted-level-3);\n",
       "  color: var(--sklearn-color-background);\n",
       "  text-decoration: none;\n",
       "}\n",
       "\n",
       "div.sk-estimator.fitted:hover .sk-estimator-doc-link.fitted:hover,\n",
       ".sk-estimator-doc-link.fitted:hover,\n",
       "div.sk-label-container:hover .sk-estimator-doc-link.fitted:hover,\n",
       ".sk-estimator-doc-link.fitted:hover {\n",
       "  /* fitted */\n",
       "  background-color: var(--sklearn-color-fitted-level-3);\n",
       "  color: var(--sklearn-color-background);\n",
       "  text-decoration: none;\n",
       "}\n",
       "\n",
       "/* Span, style for the box shown on hovering the info icon */\n",
       ".sk-estimator-doc-link span {\n",
       "  display: none;\n",
       "  z-index: 9999;\n",
       "  position: relative;\n",
       "  font-weight: normal;\n",
       "  right: .2ex;\n",
       "  padding: .5ex;\n",
       "  margin: .5ex;\n",
       "  width: min-content;\n",
       "  min-width: 20ex;\n",
       "  max-width: 50ex;\n",
       "  color: var(--sklearn-color-text);\n",
       "  box-shadow: 2pt 2pt 4pt #999;\n",
       "  /* unfitted */\n",
       "  background: var(--sklearn-color-unfitted-level-0);\n",
       "  border: .5pt solid var(--sklearn-color-unfitted-level-3);\n",
       "}\n",
       "\n",
       ".sk-estimator-doc-link.fitted span {\n",
       "  /* fitted */\n",
       "  background: var(--sklearn-color-fitted-level-0);\n",
       "  border: var(--sklearn-color-fitted-level-3);\n",
       "}\n",
       "\n",
       ".sk-estimator-doc-link:hover span {\n",
       "  display: block;\n",
       "}\n",
       "\n",
       "/* \"?\"-specific style due to the `<a>` HTML tag */\n",
       "\n",
       "#sk-container-id-2 a.estimator_doc_link {\n",
       "  float: right;\n",
       "  font-size: 1rem;\n",
       "  line-height: 1em;\n",
       "  font-family: monospace;\n",
       "  background-color: var(--sklearn-color-background);\n",
       "  border-radius: 1rem;\n",
       "  height: 1rem;\n",
       "  width: 1rem;\n",
       "  text-decoration: none;\n",
       "  /* unfitted */\n",
       "  color: var(--sklearn-color-unfitted-level-1);\n",
       "  border: var(--sklearn-color-unfitted-level-1) 1pt solid;\n",
       "}\n",
       "\n",
       "#sk-container-id-2 a.estimator_doc_link.fitted {\n",
       "  /* fitted */\n",
       "  border: var(--sklearn-color-fitted-level-1) 1pt solid;\n",
       "  color: var(--sklearn-color-fitted-level-1);\n",
       "}\n",
       "\n",
       "/* On hover */\n",
       "#sk-container-id-2 a.estimator_doc_link:hover {\n",
       "  /* unfitted */\n",
       "  background-color: var(--sklearn-color-unfitted-level-3);\n",
       "  color: var(--sklearn-color-background);\n",
       "  text-decoration: none;\n",
       "}\n",
       "\n",
       "#sk-container-id-2 a.estimator_doc_link.fitted:hover {\n",
       "  /* fitted */\n",
       "  background-color: var(--sklearn-color-fitted-level-3);\n",
       "}\n",
       "</style><div id=\"sk-container-id-2\" class=\"sk-top-container\"><div class=\"sk-text-repr-fallback\"><pre>RandomForestClassifier()</pre><b>In a Jupyter environment, please rerun this cell to show the HTML representation or trust the notebook. <br />On GitHub, the HTML representation is unable to render, please try loading this page with nbviewer.org.</b></div><div class=\"sk-container\" hidden><div class=\"sk-item\"><div class=\"sk-estimator fitted sk-toggleable\"><input class=\"sk-toggleable__control sk-hidden--visually\" id=\"sk-estimator-id-2\" type=\"checkbox\" checked><label for=\"sk-estimator-id-2\" class=\"sk-toggleable__label fitted sk-toggleable__label-arrow fitted\">&nbsp;&nbsp;RandomForestClassifier<a class=\"sk-estimator-doc-link fitted\" rel=\"noreferrer\" target=\"_blank\" href=\"https://scikit-learn.org/1.5/modules/generated/sklearn.ensemble.RandomForestClassifier.html\">?<span>Documentation for RandomForestClassifier</span></a><span class=\"sk-estimator-doc-link fitted\">i<span>Fitted</span></span></label><div class=\"sk-toggleable__content fitted\"><pre>RandomForestClassifier()</pre></div> </div></div></div></div>"
      ],
      "text/plain": [
       "RandomForestClassifier()"
      ]
     },
     "execution_count": 27,
     "metadata": {},
     "output_type": "execute_result"
    }
   ],
   "source": [
    "clf.fit(X_train_rs,y_train_rs)\n"
   ]
  },
  {
   "cell_type": "code",
   "execution_count": 28,
   "id": "efde51e3-8844-4986-b302-7e7fa2dc5849",
   "metadata": {},
   "outputs": [],
   "source": [
    "y_pred_rs = clf.predict(X_test_rs)\n"
   ]
  },
  {
   "cell_type": "code",
   "execution_count": 29,
   "id": "78094945-fae7-408b-93c0-ddd4bd061e22",
   "metadata": {},
   "outputs": [
    {
     "name": "stdout",
     "output_type": "stream",
     "text": [
      "              precision    recall  f1-score   support\n",
      "\n",
      "           0       0.98      0.98      0.98     18102\n",
      "           1       0.98      0.98      0.98     18231\n",
      "\n",
      "    accuracy                           0.98     36333\n",
      "   macro avg       0.98      0.98      0.98     36333\n",
      "weighted avg       0.98      0.98      0.98     36333\n",
      "\n"
     ]
    }
   ],
   "source": [
    "print(classification_report(y_test_rs,y_pred_rs))\n"
   ]
  },
  {
   "cell_type": "code",
   "execution_count": 30,
   "id": "960710fe-df59-4c36-8e06-56ce086c68d1",
   "metadata": {},
   "outputs": [
    {
     "data": {
      "text/plain": [
       "np.float64(0.9794934976043805)"
      ]
     },
     "execution_count": 30,
     "metadata": {},
     "output_type": "execute_result"
    }
   ],
   "source": [
    "f1_score(y_test_rs,y_pred_rs)\n"
   ]
  },
  {
   "cell_type": "code",
   "execution_count": 33,
   "id": "93f17310-4bfb-4bc4-9a14-f1784772a52a",
   "metadata": {},
   "outputs": [
    {
     "data": {
      "image/png": "[encoded data removed]",
      "text/plain": [
       "<Figure size 400x300 with 1 Axes>"
      ]
     },
     "metadata": {},
     "output_type": "display_data"
    }
   ],
   "source": [
    "cm = confusion_matrix(y_test_rs,y_pred_rs)\n",
    "plt.figure(figsize=(4, 3))\n",
    "\n",
    "# Create a heatmap using seaborn\n",
    "sns.heatmap(cm, annot=True, fmt='d', cmap='Blues', cbar=False,\n",
    "            xticklabels=label,\n",
    "            yticklabels=label)\n",
    "\n",
    "# Add labels and title\n",
    "plt.ylabel('Actual label')\n",
    "plt.xlabel('Predicted label')\n",
    "plt.title('Confusion Matrix')\n",
    "\n",
    "# Show the plot\n",
    "plt.show()\n"
   ]
  },
  {
   "cell_type": "markdown",
   "id": "cf3d4d64-a54d-469e-9d68-3f0ebaeab44d",
   "metadata": {},
   "source": [
    "- __Conclusion:__\n",
    "  \n",
    "We can see significant improvement in f1_score after sampling data(from 0.79 to 0.98)."
   ]
  },
  {
   "cell_type": "markdown",
   "id": "14d5ffa5-6f64-46a5-999b-5004ed5415e4",
   "metadata": {},
   "source": [
    "# Model Optimization and Tuning"
   ]
  },
  {
   "attachments": {},
   "cell_type": "markdown",
   "id": "47d73a6e-022d-458d-9fee-f9891890154f",
   "metadata": {},
   "source": [
    "## Hyperparameter Tuning\n",
    "### Grid Search"
   ]
  },
  {
   "cell_type": "code",
   "execution_count": 34,
   "id": "7d8457ea-fe85-4518-847c-30fb00af42ca",
   "metadata": {},
   "outputs": [],
   "source": [
    "from sklearn.model_selection import GridSearchCV\n",
    "grid_space={'max_depth':[3,5,10,None], \n",
    "            'max_features':[1,3,5,7],\n",
    "            'n_estimators':[10,100,200],\n",
    "            'min_samples_leaf':[1,2,3],\n",
    "            'min_samples_split':[1,2,3]\n",
    "           }"
   ]
  },
  {
   "cell_type": "markdown",
   "id": "1a4577a3-c1af-43a0-8a95-e28aee88b1ef",
   "metadata": {},
   "source": [
    "We will now try adjusting the following set of hyperparameters of this model:\n",
    "\n",
    "- __“Max_depth”:__ This hyperparameter represents the maximum level of each tree in the random forest model. A deeper tree performs well and captures a lot of information about the training data, but it will not generalize well enough to test data. By default, this value is set to “None” in the Scikit-Learn library, which means that the trees are left to expand completely.\n",
    "  \n",
    "- __“Max_features”:__ The maximum number of features that the random forest model is allowed to try at each split. By default in Scikit-Learn, this value is set to the square root of the total number of variables in the dataset.\n",
    "\n",
    "- __“N_estimators”:__ The number of decision trees in the forest. The default number of estimators in Scikit-Learn is 10.\n",
    "\n",
    "- __“Min_samples_leaf”:__ The minimum number of samples required to be at the leaf node of each tree. The default value is 1 in Scikit-Learn.\n",
    "\n",
    "- __“Min_samples_split”:__ The minimum number of samples required to split an internal node of each tree. The default value is 2 in Scikit-Learn.\n",
    "\n",
    "We will now create a dictionary of multiple possible values for all the above hyperparameters. This is also called the hyperparameter space and will be searched through to find the best combination of arguments:"
   ]
  },
  {
   "cell_type": "code",
   "execution_count": 35,
   "id": "329a8236-aa68-4547-bbe5-ef092fc8f3c2",
   "metadata": {},
   "outputs": [
    {
     "name": "stderr",
     "output_type": "stream",
     "text": [
      "/opt/anaconda3/envs/ML/lib/python3.9/site-packages/sklearn/model_selection/_validation.py:540: FitFailedWarning: \n",
      "432 fits failed out of a total of 1296.\n",
      "The score on these train-test partitions for these parameters will be set to nan.\n",
      "If these failures are not expected, you can try to debug them by setting error_score='raise'.\n",
      "\n",
      "Below are more details about the failures:\n",
      "--------------------------------------------------------------------------------\n",
      "432 fits failed with the following error:\n",
      "Traceback (most recent call last):\n",
      "  File \"/opt/anaconda3/envs/ML/lib/python3.9/site-packages/sklearn/model_selection/_validation.py\", line 888, in _fit_and_score\n",
      "    estimator.fit(X_train, y_train, **fit_params)\n",
      "  File \"/opt/anaconda3/envs/ML/lib/python3.9/site-packages/sklearn/base.py\", line 1466, in wrapper\n",
      "    estimator._validate_params()\n",
      "  File \"/opt/anaconda3/envs/ML/lib/python3.9/site-packages/sklearn/base.py\", line 666, in _validate_params\n",
      "    validate_parameter_constraints(\n",
      "  File \"/opt/anaconda3/envs/ML/lib/python3.9/site-packages/sklearn/utils/_param_validation.py\", line 95, in validate_parameter_constraints\n",
      "    raise InvalidParameterError(\n",
      "sklearn.utils._param_validation.InvalidParameterError: The 'min_samples_split' parameter of RandomForestClassifier must be an int in the range [2, inf) or a float in the range (0.0, 1.0]. Got 1 instead.\n",
      "\n",
      "  warnings.warn(some_fits_failed_message, FitFailedWarning)\n",
      "/opt/anaconda3/envs/ML/lib/python3.9/site-packages/sklearn/model_selection/_search.py:1103: UserWarning: One or more of the test scores are non-finite: [       nan        nan        nan 0.93998997 0.93444001 0.93205001\n",
      " 0.93703984 0.93196    0.93044999        nan        nan        nan\n",
      " 0.94254985 0.93614999 0.93281001 0.94048993 0.93822001 0.93205\n",
      "        nan        nan        nan 0.94161998 0.93271    0.93189999\n",
      " 0.93268    0.93252002 0.93337997        nan        nan        nan\n",
      " 0.97017003 0.97186999 0.97186999 0.97186999 0.97186999 0.97186999\n",
      "        nan        nan        nan 0.96505006 0.97186999 0.97186999\n",
      " 0.97091998 0.97186999 0.97186999        nan        nan        nan\n",
      " 0.97186999 0.97186999 0.97186999 0.97038998 0.97186999 0.97186999\n",
      "        nan        nan        nan 0.97186999 0.97186999 0.97186999\n",
      " 0.97186999 0.97186999 0.97186999        nan        nan        nan\n",
      " 0.97186999 0.97186999 0.97186999 0.97186999 0.97186999 0.97186999\n",
      "        nan        nan        nan 0.97186999 0.97186999 0.97186999\n",
      " 0.97186999 0.97186999 0.97186999        nan        nan        nan\n",
      " 0.97186999 0.97186999 0.97186999 0.97186999 0.97186999 0.97186999\n",
      "        nan        nan        nan 0.97186999 0.97186999 0.97186999\n",
      " 0.97186999 0.97186999 0.97186999        nan        nan        nan\n",
      " 0.97186999 0.97186999 0.97186999 0.97186999 0.97186999 0.97186999\n",
      "        nan        nan        nan 0.96612995 0.96858    0.97136999\n",
      " 0.96072005 0.97013    0.97176999        nan        nan        nan\n",
      " 0.96079009 0.97023    0.97173    0.96237003 0.96820999 0.97169\n",
      "        nan        nan        nan 0.96439995 0.96916997 0.97128999\n",
      " 0.95847996 0.97104999 0.97141           nan        nan        nan\n",
      " 0.97186999 0.97186999 0.97186999 0.97186999 0.97186999 0.97186999\n",
      "        nan        nan        nan 0.97186999 0.97186999 0.97186999\n",
      " 0.97186999 0.97186999 0.97186999        nan        nan        nan\n",
      " 0.97186999 0.97186999 0.97186999 0.97186999 0.97186999 0.97186999\n",
      "        nan        nan        nan 0.97186999 0.97186999 0.97186999\n",
      " 0.97186999 0.97186999 0.97186999        nan        nan        nan\n",
      " 0.97186999 0.97186999 0.97186999 0.97186999 0.97186999 0.97186999\n",
      "        nan        nan        nan 0.97186999 0.97186999 0.97186999\n",
      " 0.97186999 0.97186999 0.97186999        nan        nan        nan\n",
      " 0.97186999 0.97186999 0.97186999 0.97186999 0.97186999 0.97186999\n",
      "        nan        nan        nan 0.97186999 0.97186999 0.97186999\n",
      " 0.97186999 0.97186999 0.97186999        nan        nan        nan\n",
      " 0.97186999 0.97186999 0.97186999 0.97186999 0.97186999 0.97186999\n",
      "        nan        nan        nan 0.97183    0.97184999 0.97185999\n",
      " 0.97186999 0.97187999 0.97184999        nan        nan        nan\n",
      " 0.97181    0.97188999 0.97185999 0.97184999 0.97188999 0.97186999\n",
      "        nan        nan        nan 0.97153    0.97183999 0.97187999\n",
      " 0.97180999 0.97186999 0.97185999        nan        nan        nan\n",
      " 0.97181999 0.97197    0.97198    0.97179999 0.97196999 0.97196\n",
      "        nan        nan        nan 0.97186999 0.97197999 0.97187999\n",
      " 0.97187999 0.97193    0.97195           nan        nan        nan\n",
      " 0.97190999 0.97201    0.97193    0.97184999 0.9719     0.97195999\n",
      "        nan        nan        nan 0.97195999 0.97198999 0.97198999\n",
      " 0.97184999 0.97203999 0.97204999        nan        nan        nan\n",
      " 0.97199999 0.97198999 0.97203999 0.97197999 0.97196999 0.97201999\n",
      "        nan        nan        nan 0.97197999 0.97198999 0.97207999\n",
      " 0.97189999 0.97203999 0.97202999        nan        nan        nan\n",
      " 0.97175999 0.97190999 0.97188    0.97182999 0.97189999 0.97191999\n",
      "        nan        nan        nan 0.97186999 0.97196999 0.97195999\n",
      " 0.97190999 0.97193999 0.97191999        nan        nan        nan\n",
      " 0.97174    0.97195999 0.97197999 0.97169    0.97188999 0.97183999\n",
      "        nan        nan        nan 0.96966    0.97051999 0.97058\n",
      " 0.96944999 0.97099    0.9709            nan        nan        nan\n",
      " 0.9708     0.97173999 0.97164999 0.97103999 0.97181999 0.97187999\n",
      "        nan        nan        nan 0.97162999 0.97180999 0.97183999\n",
      " 0.97180999 0.97192999 0.97182           nan        nan        nan\n",
      " 0.96913999 0.96988999 0.97015    0.96933999 0.97042999 0.97035\n",
      "        nan        nan        nan 0.96991    0.97128999 0.97144999\n",
      " 0.97032    0.97146999 0.97140999        nan        nan        nan\n",
      " 0.97085999 0.97175999 0.97165    0.97065999 0.97175    0.97173999\n",
      "        nan        nan        nan 0.96854    0.96950999 0.96945\n",
      " 0.96813999 0.96995    0.97026           nan        nan        nan\n",
      " 0.96961999 0.97078    0.97115999 0.96921    0.97062    0.97099\n",
      "        nan        nan        nan 0.97017    0.97142999 0.97152999\n",
      " 0.97055999 0.97136999 0.97145999        nan        nan        nan\n",
      " 0.96758999 0.96896    0.96909    0.96742    0.96935    0.96961999\n",
      "        nan        nan        nan 0.96890999 0.97060999 0.97075\n",
      " 0.96890999 0.9707     0.97065999        nan        nan        nan\n",
      " 0.96975    0.97111    0.97113    0.96991999 0.97106999 0.97134   ]\n",
      "  warnings.warn(\n"
     ]
    }
   ],
   "source": [
    "\n",
    "grid = GridSearchCV(rf,param_grid=grid_space,cv=3,scoring='accuracy')\n",
    "model_grid = grid.fit(X,y)\n"
   ]
  },
  {
   "cell_type": "code",
   "execution_count": 36,
   "id": "cacdf16d-a194-4c5d-b2ef-7c68a9ee138f",
   "metadata": {},
   "outputs": [
    {
     "name": "stdout",
     "output_type": "stream",
     "text": [
      "Best hyperparameters are: {'max_depth': 10, 'max_features': 5, 'min_samples_leaf': 3, 'min_samples_split': 2, 'n_estimators': 200}\n",
      "Best score is: 0.9720799940944751\n"
     ]
    }
   ],
   "source": [
    "print('Best hyperparameters are: '+str(model_grid.best_params_))\n",
    "print('Best score is: '+str(model_grid.best_score_))\n"
   ]
  },
  {
   "cell_type": "markdown",
   "id": "930ef4f0-1a9b-4624-902f-c074a7b044b3",
   "metadata": {},
   "source": [
    "### Defining the Hyperparameter Space"
   ]
  },
  {
   "cell_type": "code",
   "execution_count": 39,
   "id": "547dad41-0960-4506-9e27-e61183e98478",
   "metadata": {},
   "outputs": [],
   "source": [
    "from scipy.stats import randint\n",
    "\n",
    "rs_space={'max_depth':list(np.arange(10, 100, step=10)) + [None],\n",
    "              'n_estimators':np.arange(10, 500, step=50),\n",
    "              'max_features':randint(1,7),\n",
    "              'criterion':['gini','entropy'],\n",
    "              'min_samples_leaf':randint(1,4),\n",
    "              'min_samples_split':np.arange(2, 10, step=2)\n",
    "         }\n"
   ]
  },
  {
   "cell_type": "markdown",
   "id": "525d5601-c8b9-4ddf-8478-51525860f852",
   "metadata": {},
   "source": [
    "### Running Random Search"
   ]
  },
  {
   "cell_type": "code",
   "execution_count": 40,
   "id": "e4ecae56-b32e-4226-9107-db899f056e89",
   "metadata": {},
   "outputs": [],
   "source": [
    "from sklearn.model_selection import RandomizedSearchCV\n",
    "\n",
    "rf = RandomForestClassifier()\n",
    "rf_random = RandomizedSearchCV(rf, rs_space, n_iter=500, scoring='accuracy', n_jobs=-1, cv=3)\n",
    "model_random = rf_random.fit(X,y)\n"
   ]
  },
  {
   "cell_type": "code",
   "execution_count": null,
   "id": "1990d430-ed0a-4bb2-bc91-bfa607049c5f",
   "metadata": {},
   "outputs": [],
   "source": [
    "print('Best hyperparameters are: '+str(model_random.best_params_))\n",
    "print('Best score is: '+str(model_random.best_score_))\n"
   ]
  },
  {
   "cell_type": "markdown",
   "id": "ec2491a5-e558-4ab8-955b-0fcc6144a1f3",
   "metadata": {},
   "source": [
    "## Cross validation for sampled data using cross val"
   ]
  },
  {
   "cell_type": "code",
   "execution_count": 42,
   "id": "33465a9b-f08c-4039-aaa2-4f041ab71968",
   "metadata": {},
   "outputs": [
    {
     "name": "stderr",
     "output_type": "stream",
     "text": [
      "[Parallel(n_jobs=-1)]: Using backend LokyBackend with 8 concurrent workers.\n",
      "[Parallel(n_jobs=-1)]: Done   2 out of   5 | elapsed:   10.1s remaining:   15.2s\n",
      "[Parallel(n_jobs=-1)]: Done   5 out of   5 | elapsed:   10.3s finished\n"
     ]
    },
    {
     "data": {
      "text/plain": [
       "array([0.95505873, 0.98492545, 0.98540285, 0.9843409 , 0.98463889])"
      ]
     },
     "execution_count": 42,
     "metadata": {},
     "output_type": "execute_result"
    }
   ],
   "source": [
    "from sklearn.model_selection import cross_val_score\n",
    "cross_val_score(clf,X_resample, y_resample, cv=5, scoring='f1',verbose=1,n_jobs=-1)\n"
   ]
  },
  {
   "cell_type": "markdown",
   "id": "1f100347-3e42-492c-9571-a84943b36dca",
   "metadata": {},
   "source": [
    "__Cross val conclusion:__\n",
    "\n",
    "Cross Val scores for __5 folds__ can confirm that our __model is not overfitting__. Although 1 out of 5 folds underperformed, this is acceptable."
   ]
  },
  {
   "cell_type": "markdown",
   "id": "b2f75d3a-0968-4f48-a122-5c056377204b",
   "metadata": {},
   "source": [
    "### ROC-AUC plot for minority class comparison\n",
    "\n",
    "The Receiver Operating Characteristic (ROC) curve and the Area Under the Curve (AUC) metric are powerful tools for evaluating the performance of a classification model, especially when dealing with imbalanced datasets where the minority class is of particular interest. Below, the sample code to show the process of generating a ROC-AUC plot specifically for comparing the model's ability to predict a minority class.\n"
   ]
  },
  {
   "cell_type": "code",
   "execution_count": 44,
   "id": "55919419-0114-44fb-aa24-f20d8a222929",
   "metadata": {},
   "outputs": [],
   "source": [
    "rf.fit(X_train,y_train)\n",
    "\n",
    "y_proba = rf.predict_proba(X_test)[:,1]\n",
    "y_proba_rs = clf.predict_proba(X_test_rs)[:,1]\n"
   ]
  },
  {
   "cell_type": "code",
   "execution_count": 45,
   "id": "9915e15f-0ce3-4642-9a2f-20d534de592e",
   "metadata": {},
   "outputs": [
    {
     "data": {
      "image/png": "[encoded data removed]",
      "text/plain": [
       "<Figure size 1400x600 with 2 Axes>"
      ]
     },
     "metadata": {},
     "output_type": "display_data"
    }
   ],
   "source": [
    "import matplotlib.pyplot as plt\n",
    "from sklearn.metrics import roc_curve, roc_auc_score\n",
    "\n",
    "\n",
    "# Compute ROC curve and ROC area for both models\n",
    "fpr, tpr, _ = roc_curve(y_test, y_proba)\n",
    "roc_auc = roc_auc_score(y_test, y_proba)\n",
    "\n",
    "fpr_rs, tpr_rs, _ = roc_curve(y_test_rs, y_proba_rs)\n",
    "roc_auc_rs = roc_auc_score(y_test_rs, y_proba_rs)\n",
    "\n",
    "# Create subplots: two ROC curves side by side\n",
    "fig, ax = plt.subplots(1, 2, figsize=(14, 6))\n",
    "\n",
    "# Plot ROC curve for the imbalanced model\n",
    "ax[0].plot(fpr, tpr, color='blue', lw=2, label=f'AUC = {roc_auc:.2f}')\n",
    "ax[0].plot([0, 1], [0, 1], color='black', linestyle='--')\n",
    "ax[0].set_xlim([0.0, 1.0])\n",
    "ax[0].set_ylim([0.0, 1.05])\n",
    "ax[0].set_xlabel('False Positive Rate')\n",
    "ax[0].set_ylabel('True Positive Rate')\n",
    "ax[0].set_title('Imbalanced Model ROC Curve')\n",
    "ax[0].legend(loc=\"lower right\")\n",
    "\n",
    "# Plot ROC curve for the resampled model\n",
    "ax[1].plot(fpr_rs, tpr_rs, color='red', lw=2, label=f'AUC = {roc_auc_rs:.2f}')\n",
    "ax[1].plot([0, 1], [0, 1], color='black', linestyle='--')\n",
    "ax[1].set_xlim([0.0, 1.0])\n",
    "ax[1].set_ylim([0.0, 1.05])\n",
    "ax[1].set_xlabel('False Positive Rate')\n",
    "ax[1].set_ylabel('True Positive Rate')\n",
    "ax[1].set_title('Resampled Model ROC Curve')\n",
    "ax[1].legend(loc=\"lower right\")\n",
    "\n",
    "# Adjust spacing between plots\n",
    "plt.tight_layout()\n",
    "\n",
    "# Show plots\n",
    "plt.show()\n"
   ]
  },
  {
   "cell_type": "markdown",
   "id": "61e4723f-1da4-4da5-84ad-6f0e00f82160",
   "metadata": {},
   "source": [
    "### Precision Recall curve for minority class comparision"
   ]
  },
  {
   "cell_type": "code",
   "execution_count": 46,
   "id": "98bf5151-4713-470d-b4e2-6a1cfe4de9ee",
   "metadata": {},
   "outputs": [
    {
     "data": {
      "image/png": "[encoded data removed]",
      "text/plain": [
       "<Figure size 1400x600 with 2 Axes>"
      ]
     },
     "metadata": {},
     "output_type": "display_data"
    }
   ],
   "source": [
    "import matplotlib.pyplot as plt\n",
    "from sklearn.metrics import precision_recall_curve, average_precision_score\n",
    "\n",
    "# Compute Precision-Recall curve and average precision score for both models\n",
    "precision, recall, _ = precision_recall_curve(y_test, y_proba)\n",
    "average_precision = average_precision_score(y_test, y_proba)\n",
    "\n",
    "precision_rs, recall_rs, _ = precision_recall_curve(y_test_rs, y_proba_rs)\n",
    "average_precision_rs = average_precision_score(y_test_rs, y_proba_rs)\n",
    "\n",
    "# Create subplots: two PR curves side by side\n",
    "fig, ax = plt.subplots(1, 2, figsize=(14, 6))\n",
    "\n",
    "# Plot PR curve for the imbalanced model\n",
    "ax[0].plot(recall, precision, color='blue', lw=2, label=f'AP = {average_precision:.2f}')\n",
    "ax[0].set_xlabel('Recall')\n",
    "ax[0].set_ylabel('Precision')\n",
    "ax[0].set_title('Imbalanced Model Precision-Recall Curve')\n",
    "ax[0].legend(loc=\"lower left\")\n",
    "\n",
    "# Plot PR curve for the resampled model\n",
    "ax[1].plot(recall_rs, precision_rs, color='red', lw=2, label=f'AP = {average_precision_rs:.2f}')\n",
    "ax[1].set_xlabel('Recall')\n",
    "ax[1].set_ylabel('Precision')\n",
    "ax[1].set_title('Resampled Model Precision-Recall Curve')\n",
    "ax[1].legend(loc=\"lower left\")\n",
    "\n",
    "# Adjust spacing between plots\n",
    "plt.tight_layout()\n",
    "\n",
    "# Show plots\n",
    "plt.show()\n"
   ]
  },
  {
   "cell_type": "markdown",
   "id": "3b40b74b-1d9c-4758-879c-cdd0f571865a",
   "metadata": {},
   "source": [
    "## Deployment model"
   ]
  },
  {
   "cell_type": "code",
   "execution_count": 53,
   "id": "2a702ad7-7ff5-42f6-819e-9cbe7239c915",
   "metadata": {},
   "outputs": [
    {
     "name": "stdout",
     "output_type": "stream",
     "text": [
      "              precision    recall  f1-score   support\n",
      "\n",
      "           0       0.98      0.98      0.98     18102\n",
      "           1       0.98      0.98      0.98     18231\n",
      "\n",
      "    accuracy                           0.98     36333\n",
      "   macro avg       0.98      0.98      0.98     36333\n",
      "weighted avg       0.98      0.98      0.98     36333\n",
      "\n",
      "f1_score:  0.9794934976043805\n"
     ]
    },
    {
     "data": {
      "image/png": "[encoded data removed]",
      "text/plain": [
       "<Figure size 400x300 with 1 Axes>"
      ]
     },
     "metadata": {},
     "output_type": "display_data"
    }
   ],
   "source": [
    "import pickle\n",
    "\n",
    "# save the model into the pk1 file\n",
    "pickle.dump(clf , open('random-forest-model.pk1' , 'wb'))\n",
    "\n",
    "# load the model from the pk1 file\n",
    "loaded_clf = pickle.load(open('random-forest-model.pk1' , 'rb'))\n",
    "y_pred_rs = loaded_clf.predict(X_test_rs)\n",
    "print(classification_report(y_test_rs,y_pred_rs))\n",
    "\n",
    "print('f1_score: ', f1_score(y_test_rs,y_pred_rs))\n",
    "\n",
    "cm = confusion_matrix(y_test_rs,y_pred_rs)\n",
    "plt.figure(figsize=(4, 3))\n",
    "\n",
    "# Create a heatmap using seaborn\n",
    "sns.heatmap(cm, annot=True, fmt='d', cmap='Blues', cbar=False,\n",
    "            xticklabels=label,\n",
    "            yticklabels=label)\n",
    "\n",
    "# Add labels and title\n",
    "plt.ylabel('Actual label')\n",
    "plt.xlabel('Predicted label')\n",
    "plt.title('Confusion Matrix')\n",
    "\n",
    "# Show the plot\n",
    "plt.show()\n"
   ]
  },
  {
   "cell_type": "code",
   "execution_count": null,
   "id": "639742c3-63d3-4cd6-8a29-0e0eaa2f5d40",
   "metadata": {},
   "outputs": [],
   "source": []
  }
 ],
 "metadata": {
  "kernelspec": {
   "display_name": "Python 3 (ipykernel)",
   "language": "python",
   "name": "python3"
  },
  "language_info": {
   "codemirror_mode": {
    "name": "ipython",
    "version": 3
   },
   "file_extension": ".py",
   "mimetype": "text/x-python",
   "name": "python",
   "nbconvert_exporter": "python",
   "pygments_lexer": "ipython3",
   "version": "3.9.19"
  }
 },
 "nbformat": 4,
 "nbformat_minor": 5
}
